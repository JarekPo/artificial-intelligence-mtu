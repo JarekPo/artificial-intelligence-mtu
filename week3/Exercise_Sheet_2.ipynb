{
  "cells": [
    {
      "cell_type": "markdown",
      "metadata": {
        "id": "wJlxCLtG-Txb"
      },
      "source": [
        "# Selection Problems Genetic Algorithms\n",
        "\n",
        "In this exercise sheet we explore the use of genetic algorithms to solve selection type problems.\n",
        "\n",
        "Each object in a list of object will either be selected or not..\n",
        "\n",
        "The individuals in the genetic algorithm for these problems will be a selection of these objects, where the chromosome could be a list of 1 (i.e. True) or 0 (i.e. False). \n",
        "\n",
        "But, to save memory, we will have a chromosome of True or False entries rather than the number 1 or 0.\n",
        "\n",
        "**Exercise 1**  Why does this save memory? If we wished to use 0's and 1's how would these be stored?"
      ]
    },
    {
      "cell_type": "code",
      "execution_count": 1,
      "metadata": {},
      "outputs": [
        {
          "name": "stdout",
          "output_type": "stream",
          "text": [
            "72\n",
            "72\n"
          ]
        }
      ],
      "source": [
        "import sys\n",
        "import numpy as np\n",
        "from copy import deepcopy\n",
        "\n",
        "\n",
        "x = [True, False]\n",
        "y = [0,1]\n",
        "print(sys.getsizeof(x))\n",
        "print(sys.getsizeof(y))"
      ]
    },
    {
      "cell_type": "code",
      "execution_count": null,
      "metadata": {
        "id": "gp8N96UsBzhb"
      },
      "outputs": [],
      "source": [
        "help(np.random.choice)"
      ]
    },
    {
      "cell_type": "code",
      "execution_count": 2,
      "metadata": {},
      "outputs": [
        {
          "name": "stdout",
          "output_type": "stream",
          "text": [
            "[ True False  True False False False  True False False False False False\n",
            " False False  True  True False False  True False  True  True False  True\n",
            "  True False  True  True  True  True  True  True False  True  True False\n",
            " False  True False  True False  True  True False False  True  True  True\n",
            "  True False False  True  True  True False  True  True False  True  True\n",
            "  True  True  True False  True  True False  True False  True  True False\n",
            "  True False  True False  True  True False  True False  True  True  True\n",
            "  True False False  True False False False  True  True  True False  True\n",
            " False False  True False  True  True False  True False False  True False\n",
            "  True  True False  True False  True  True False False False False  True\n",
            " False False False False  True  True  True False False  True False False\n",
            "  True False  True  True  True False False  True  True False  True  True\n",
            " False False False  True False  True False  True  True  True  True  True\n",
            " False False False  True  True  True  True  True False  True False  True\n",
            " False  True  True False  True  True  True False  True False False False\n",
            "  True  True  True  True False False  True  True False False  True False\n",
            " False  True  True False  True False False  True False  True  True  True\n",
            " False  True False  True  True  True False  True  True  True False  True\n",
            "  True  True False False  True False  True False  True  True False  True\n",
            "  True False  True False  True False False False False False False  True\n",
            "  True  True False False  True False False False  True  True False False\n",
            " False False  True False False False  True  True  True False  True False\n",
            "  True False  True  True  True  True False False  True  True  True  True\n",
            " False  True  True False False  True  True False  True False False False\n",
            " False  True False  True  True  True False False False  True  True False\n",
            "  True False False False False  True  True False  True False  True False\n",
            "  True False False  True  True False False False False False False False\n",
            " False False  True False False  True  True  True False False  True False\n",
            " False  True  True False False  True False False False False False  True\n",
            "  True  True False  True  True False False False  True  True False  True\n",
            " False False  True False False  True False False  True False  True False\n",
            " False False False  True False False  True False False  True False False\n",
            " False False False False  True False False False  True False False  True\n",
            " False False  True  True  True False  True False  True False False  True\n",
            "  True  True  True  True False  True False  True  True  True  True False\n",
            "  True False  True  True False  True  True False False False False  True\n",
            " False  True  True  True  True False  True  True False  True  True  True\n",
            " False  True  True False  True  True False False  True  True False  True\n",
            "  True  True False False False  True  True  True False  True  True False\n",
            " False  True False  True  True False False  True  True False  True  True\n",
            " False  True  True  True False False  True False  True False  True False\n",
            "  True False False  True  True  True False False  True False False False\n",
            "  True  True False  True  True False False  True  True False  True  True\n",
            " False False False False  True  True False  True  True  True  True False\n",
            "  True False False  True  True  True False False  True  True False False\n",
            " False False False False False False False  True  True False  True False\n",
            "  True False  True  True  True False False False False False  True  True\n",
            " False  True  True  True False  True False False  True False False False\n",
            " False  True  True  True False  True False False False  True False False\n",
            "  True False  True  True  True  True  True False False  True  True  True\n",
            "  True  True  True  True False False  True  True False False False  True\n",
            " False False False  True False False False False  True False  True False\n",
            "  True  True  True False  True  True False  True  True  True False False\n",
            " False  True False  True False False  True  True False  True  True False\n",
            "  True  True False False  True False  True  True  True False False False\n",
            " False False  True False False False False  True  True False  True  True\n",
            "  True False False  True  True False False False  True False False False\n",
            "  True False  True  True False  True  True  True False  True False False\n",
            "  True False False False  True False  True  True False False  True  True\n",
            " False False  True  True False False False False False  True  True  True\n",
            "  True False  True  True False  True  True False  True False False  True\n",
            "  True  True  True  True  True  True False False  True  True False  True\n",
            " False  True  True False False False  True  True False  True False  True\n",
            "  True  True False  True False False  True False  True False False False\n",
            "  True False  True False False False False False  True False  True  True\n",
            "  True False False  True  True  True False  True  True  True False  True\n",
            "  True False  True False  True  True  True False  True False False False\n",
            " False  True  True  True False  True False  True  True  True  True  True\n",
            " False False  True False  True  True False  True  True  True  True  True\n",
            " False False False  True False  True  True False False  True False  True\n",
            " False False  True False False  True  True False  True  True  True False\n",
            "  True  True  True  True False  True False  True  True  True False False\n",
            " False  True  True False False False  True  True False  True  True  True\n",
            "  True False False False  True  True  True False False  True  True False\n",
            " False False False False  True  True False False  True  True  True  True\n",
            "  True False False  True  True  True  True  True  True False  True  True\n",
            "  True False False  True False  True  True False  True  True False False\n",
            "  True  True  True  True False  True  True  True False  True  True False\n",
            "  True  True False False False  True False False False False  True False\n",
            "  True False False False False  True  True False False  True  True False\n",
            " False  True  True  True False False  True False False  True  True  True\n",
            " False False  True  True False  True  True False  True  True  True False\n",
            " False False  True False  True False  True  True False False False  True\n",
            " False  True  True  True]\n"
          ]
        }
      ],
      "source": [
        "boolValues = np.random.choice([True, False], 1000)\n",
        "print(boolValues)"
      ]
    },
    {
      "cell_type": "markdown",
      "metadata": {
        "id": "sBjj6sTHCbdt"
      },
      "source": [
        "**Exercise 2**  Use np.random.choice to create an array of size 1000 of True or False values\n",
        "\n",
        "**Exercise 3**  Incorporate into the problem and individual class shells' below\n"
      ]
    },
    {
      "cell_type": "code",
      "execution_count": 12,
      "metadata": {
        "collapsed": true,
        "id": "uCh1GR5VB6bD"
      },
      "outputs": [],
      "source": [
        "class Problem:\n",
        "  def __init__(self):\n",
        "    self.number_of_genes = 1000\n",
        "    self.cost_function = None\n",
        "\n",
        "\n",
        "class Individual:\n",
        "  # This class defines the individual for the genetic algorithm. We hope to find the individual which solves our problem\n",
        "  chromosone = None\n",
        "\n",
        "  def __init__(self, prob):    #  This is the constructor for the individual and as such needs the problem to mould the individuals to it\n",
        "    #Create a random individual.\n",
        "    self.chromosone = np.random.choice([True, False], prob.number_of_genes)   \n",
        "    \n",
        "\n",
        "  def crossover(self,other_parent, epsilon):\n",
        "    alpha = np.random.uniform(-epsilon, 1+epsilon)\n",
        "    child1 = deepcopy(self)\n",
        "    child2 = deepcopy(other_parent)\n",
        "    child1.chromosone = alpha * self.chromosone + (1-alpha)*other_parent.chromosone\n",
        "    child2.chromosone = (1-alpha) * self.chromosone + alpha*other_parent.chromosone\n",
        "\n",
        "    return child1, child2\n",
        "\n",
        "\n",
        "  def mutate(self, mutation_rate, range_change):\n",
        "    for index in range(len(self.chromosone)):\n",
        "      if (np.random.uniform() < mutation_rate):\n",
        "        self.chromosone[index] += np.random.randn()*range_change\n"
      ]
    },
    {
      "cell_type": "markdown",
      "metadata": {
        "id": "Uzye1BfGIrOi"
      },
      "source": [
        "**Exercise 4**  Use np.random.uniform to create an array of 1000 floating point values between 1 and 10, and store in the variable **weights**\n",
        "\n",
        "**Exercise 5**  How would you find the total weight of an individuals selection?\n"
      ]
    },
    {
      "cell_type": "code",
      "execution_count": 4,
      "metadata": {
        "id": "0EBjG6GrIqTa"
      },
      "outputs": [
        {
          "name": "stdout",
          "output_type": "stream",
          "text": [
            "5513.045853073857\n"
          ]
        }
      ],
      "source": [
        "weights = np.random.uniform(1,10,1000)\n",
        "print(sum(weights))"
      ]
    },
    {
      "cell_type": "markdown",
      "metadata": {
        "id": "iJt94QdfKwXJ"
      },
      "source": [
        "**Exercise 6**  Use np.random.randint to create an array of 1000 integer values between 0 and 50, and store in the variable **values**\n",
        "\n",
        "**Exercise 7**  How would you find the total value of an individuals selection?\n",
        "\n",
        "**Exercise 8**   What is the total weight and value of all items?"
      ]
    },
    {
      "cell_type": "code",
      "execution_count": 5,
      "metadata": {
        "id": "1yQxY2tcKvt6"
      },
      "outputs": [
        {
          "name": "stdout",
          "output_type": "stream",
          "text": [
            "24133\n"
          ]
        }
      ],
      "source": [
        "values = np.random.randint(0,50,1000)\n",
        "print(sum(values))"
      ]
    },
    {
      "cell_type": "markdown",
      "metadata": {
        "id": "qtQn4Z6z3lMk"
      },
      "source": [
        "**Exercise 9**  Implement the mutate method for this. Is there any other way mutation could be done for these types of problems?"
      ]
    },
    {
      "cell_type": "code",
      "execution_count": null,
      "metadata": {
        "id": "6d4JXiNqIlba"
      },
      "outputs": [],
      "source": []
    },
    {
      "cell_type": "markdown",
      "metadata": {
        "id": "fFxCoOCC4Kv_"
      },
      "source": [
        "**Exercise 10**  Implement the crossover method with 1 crossover point.  With more than 1 crossover point?\n"
      ]
    },
    {
      "cell_type": "code",
      "execution_count": null,
      "metadata": {
        "id": "5xreSe884Jq-"
      },
      "outputs": [],
      "source": []
    },
    {
      "cell_type": "markdown",
      "metadata": {
        "id": "xZx7xKvo4f0n"
      },
      "source": [
        "**Exercise 11**  Use the run_genetic algorithm to find the most valuable selection of items with a combined weight of less than 60."
      ]
    },
    {
      "cell_type": "code",
      "execution_count": 13,
      "metadata": {
        "id": "vWsf4ae3C1t2"
      },
      "outputs": [],
      "source": [
        "class Parameters:\n",
        "  def __init__(self):\n",
        "    self.number_in_population = 1000\n",
        "    self.number_of_generations = 500\n",
        "    self.child_rate = 0.5\n",
        "    self.crossover_explore = 0.1\n",
        "    self.mutation_rate = 0.2\n",
        "    self.range_of_gene_mutation = 0.3\n",
        "\n",
        "para = Parameters()\n",
        "p = Parameters()"
      ]
    },
    {
      "cell_type": "code",
      "execution_count": 14,
      "metadata": {},
      "outputs": [],
      "source": [
        "def choose_diff_indices(max_value):\n",
        "  index1 = np.random.randint(0, max_value)\n",
        "  index2 = np.random.randint(0, max_value)\n",
        "  if index1 == index2:\n",
        "    return choose_diff_indices(max_value)\n",
        "  else:\n",
        "    return index1, index2"
      ]
    },
    {
      "cell_type": "code",
      "execution_count": 15,
      "metadata": {},
      "outputs": [
        {
          "ename": "AttributeError",
          "evalue": "'Parameters' object has no attribute 'cost_function'",
          "output_type": "error",
          "traceback": [
            "\u001b[1;31m---------------------------------------------------------------------------\u001b[0m",
            "\u001b[1;31mAttributeError\u001b[0m                            Traceback (most recent call last)",
            "Cell \u001b[1;32mIn[15], line 61\u001b[0m\n\u001b[0;32m     57\u001b[0m       best_solution\u001b[39m=\u001b[39m deepcopy(population[\u001b[39m0\u001b[39m])\n\u001b[0;32m     59\u001b[0m   \u001b[39mreturn\u001b[39;00m population, best_solution\n\u001b[1;32m---> 61\u001b[0m pop, best_sol \u001b[39m=\u001b[39m run_genetic(p, para)\n\u001b[0;32m     63\u001b[0m best_sol\u001b[39m.\u001b[39mcost\n",
            "Cell \u001b[1;32mIn[15], line 3\u001b[0m, in \u001b[0;36mrun_genetic\u001b[1;34m(prob, params)\u001b[0m\n\u001b[0;32m      1\u001b[0m \u001b[39mdef\u001b[39;00m \u001b[39mrun_genetic\u001b[39m(prob, params):\n\u001b[0;32m      2\u001b[0m   \u001b[39m# read the problem\u001b[39;00m\n\u001b[1;32m----> 3\u001b[0m   cost_function \u001b[39m=\u001b[39m prob\u001b[39m.\u001b[39;49mcost_function\n\u001b[0;32m      5\u001b[0m   \u001b[39m# read parameters\u001b[39;00m\n\u001b[0;32m      6\u001b[0m   number_in_population \u001b[39m=\u001b[39m params\u001b[39m.\u001b[39mnumber_in_population\n",
            "\u001b[1;31mAttributeError\u001b[0m: 'Parameters' object has no attribute 'cost_function'"
          ]
        }
      ],
      "source": [
        "def run_genetic(prob, params):\n",
        "  # read the problem\n",
        "  cost_function = prob.cost_function\n",
        "\n",
        "  # read parameters\n",
        "  number_in_population = params.number_in_population\n",
        "  number_of_children = params.child_rate * number_in_population\n",
        "  explore_rate_crossover = params.crossover_explore\n",
        "  mutation_rate = params.mutation_rate\n",
        "  range_of_mutation = params.range_of_gene_mutation\n",
        "  max_number_of_iterations = params.number_of_generations\n",
        "\n",
        "  # initialise the population\n",
        "  best_solution = Individual(prob)\n",
        "  best_solution.cost = 999999\n",
        "\n",
        "  population = []\n",
        "  for i in range(number_in_population):\n",
        "    new_individual = Individual(prob)\n",
        "    population.append(new_individual)\n",
        "    if new_individual.cost < best_solution.cost:\n",
        "      best_solution = deepcopy(new_individual)\n",
        "\n",
        "  # loop over generations\n",
        "  for iteration in range(max_number_of_iterations):\n",
        "\n",
        "    # generate children\n",
        "    children = []\n",
        "    while len(children) < number_of_children:\n",
        "\n",
        "      # choose parents\n",
        "      parent1_index, parent2_index = choose_diff_indices(len(population))\n",
        "      parent1 = population[parent1_index]\n",
        "      parent2 = population[parent2_index]\n",
        "\n",
        "      child1, child2 = parent1.crossover(parent2, explore_rate_crossover)\n",
        "\n",
        "      # mutate children\n",
        "      child1.mutate(mutation_rate, range_of_mutation)\n",
        "      child2.mutate(mutation_rate, range_of_mutation)\n",
        "\n",
        "      # cost of chidren\n",
        "      child1.cost = cost_function(child1.chromosone)\n",
        "      child2.cost = cost_function(child2.chromosone)\n",
        "\n",
        "      children.append(child1)\n",
        "      children.append(child2)\n",
        "\n",
        "    # add children to population\n",
        "    population += children\n",
        "\n",
        "    # sort and cull population\n",
        "    population = sorted(population, key = lambda x: x.cost)\n",
        "    population = population[:number_in_population]\n",
        "\n",
        "    if population[0].cost < best_solution.cost:\n",
        "      best_solution= deepcopy(population[0])\n",
        "\n",
        "  return population, best_solution\n",
        "\n",
        "pop, best_sol = run_genetic(p, para)\n",
        "\n",
        "best_sol.cost"
      ]
    },
    {
      "cell_type": "code",
      "execution_count": null,
      "metadata": {},
      "outputs": [],
      "source": [
        "prob = Problem()\n",
        "param = Parameters()\n",
        "\n",
        "pop, best = run_genetic(prob, param)"
      ]
    },
    {
      "cell_type": "code",
      "execution_count": null,
      "metadata": {},
      "outputs": [],
      "source": [
        "print(pop[600].cost)\n",
        "print(best.cost)\n",
        "print(best.chromosone)"
      ]
    }
  ],
  "metadata": {
    "colab": {
      "provenance": []
    },
    "kernelspec": {
      "display_name": ".venv",
      "language": "python",
      "name": "python3"
    },
    "language_info": {
      "codemirror_mode": {
        "name": "ipython",
        "version": 3
      },
      "file_extension": ".py",
      "mimetype": "text/x-python",
      "name": "python",
      "nbconvert_exporter": "python",
      "pygments_lexer": "ipython3",
      "version": "3.10.5"
    },
    "vscode": {
      "interpreter": {
        "hash": "072d63d6d7ab3587f4955b1097238bfbd1a66f70208eb562cbd9f46f67409b14"
      }
    }
  },
  "nbformat": 4,
  "nbformat_minor": 0
}
