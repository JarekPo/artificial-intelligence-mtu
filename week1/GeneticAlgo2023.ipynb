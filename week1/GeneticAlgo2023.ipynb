{
  "nbformat": 4,
  "nbformat_minor": 0,
  "metadata": {
    "colab": {
      "provenance": []
    },
    "kernelspec": {
      "name": "python3",
      "display_name": "Python 3"
    },
    "language_info": {
      "name": "python"
    }
  },
  "cells": [
    {
      "cell_type": "code",
      "execution_count": null,
      "metadata": {
        "id": "qGSHEGG3ICFa"
      },
      "outputs": [],
      "source": [
        "import numpy as np\n",
        "from copy import deepcopy"
      ]
    },
    {
      "cell_type": "code",
      "source": [
        "x= np.array([1,2,3,4,5])"
      ],
      "metadata": {
        "id": "EEcvX8_rKIbt"
      },
      "execution_count": null,
      "outputs": []
    },
    {
      "cell_type": "code",
      "source": [
        "x"
      ],
      "metadata": {
        "colab": {
          "base_uri": "https://localhost:8080/"
        },
        "id": "f4pSQV5CKJOA",
        "outputId": "d332ebf0-4b0b-43af-c88f-432de1d1c4da"
      },
      "execution_count": null,
      "outputs": [
        {
          "output_type": "execute_result",
          "data": {
            "text/plain": [
              "array([1, 2, 3, 4, 5])"
            ]
          },
          "metadata": {},
          "execution_count": 17
        }
      ]
    },
    {
      "cell_type": "code",
      "source": [
        "def sphere_function(x):\n",
        "  return sum(x**2)"
      ],
      "metadata": {
        "id": "k8FUM304K_4T"
      },
      "execution_count": null,
      "outputs": []
    },
    {
      "cell_type": "code",
      "source": [
        "sphere_function(x)"
      ],
      "metadata": {
        "colab": {
          "base_uri": "https://localhost:8080/"
        },
        "id": "A2YMH5sXLh_l",
        "outputId": "8814251e-3690-479b-f1ef-087f8947713d"
      },
      "execution_count": null,
      "outputs": [
        {
          "output_type": "execute_result",
          "data": {
            "text/plain": [
              "55"
            ]
          },
          "metadata": {},
          "execution_count": 20
        }
      ]
    },
    {
      "cell_type": "code",
      "source": [
        "class problem:\n",
        "  def __init__(self):\n",
        "    self.number_of_genes = 8\n",
        "    self.min_gene_value = -10\n",
        "    self.max_gene_value = 10\n",
        "    self.cost_function = sphere_function"
      ],
      "metadata": {
        "id": "mhxf_46iMcit"
      },
      "execution_count": null,
      "outputs": []
    },
    {
      "cell_type": "code",
      "source": [
        "p = problem()"
      ],
      "metadata": {
        "id": "yyKrrWkXLkXR"
      },
      "execution_count": null,
      "outputs": []
    },
    {
      "cell_type": "code",
      "source": [
        "x=np.array([-1,3,-5,8,3,9,2,0])"
      ],
      "metadata": {
        "id": "LQnPJ-LjOGbH"
      },
      "execution_count": null,
      "outputs": []
    },
    {
      "cell_type": "code",
      "source": [
        "p.cost_function(x)"
      ],
      "metadata": {
        "colab": {
          "base_uri": "https://localhost:8080/"
        },
        "id": "up6QKVxoN6eU",
        "outputId": "591185ef-824d-4676-a0a9-76838dddee77"
      },
      "execution_count": null,
      "outputs": [
        {
          "output_type": "execute_result",
          "data": {
            "text/plain": [
              "193"
            ]
          },
          "metadata": {},
          "execution_count": 27
        }
      ]
    },
    {
      "cell_type": "code",
      "source": [
        "sphere_function(x)"
      ],
      "metadata": {
        "colab": {
          "base_uri": "https://localhost:8080/"
        },
        "id": "dcd5E8RUOEEz",
        "outputId": "9da0fc2c-29f8-42d5-fff9-30d42f4bf150"
      },
      "execution_count": null,
      "outputs": [
        {
          "output_type": "execute_result",
          "data": {
            "text/plain": [
              "193"
            ]
          },
          "metadata": {},
          "execution_count": 28
        }
      ]
    },
    {
      "cell_type": "code",
      "source": [
        "class individual:\n",
        "  chromosone = None\n",
        "  def __init__(self, prob):\n",
        "    #Create a random individual.\n",
        "    self.chromosone = np.random.uniform(prob.min_gene_value,prob.max_gene_value,prob.number_of_genes)\n",
        "    self.cost = prob.cost_function(self.chromosone)"
      ],
      "metadata": {
        "id": "eewJKsg3Oh56"
      },
      "execution_count": null,
      "outputs": []
    },
    {
      "cell_type": "code",
      "source": [
        "np.random.uniform(-10,10,8)"
      ],
      "metadata": {
        "colab": {
          "base_uri": "https://localhost:8080/"
        },
        "id": "anJQI-HuRQF8",
        "outputId": "f182ca70-cebe-431f-d2c8-36cf7727752c"
      },
      "execution_count": null,
      "outputs": [
        {
          "output_type": "execute_result",
          "data": {
            "text/plain": [
              "array([ 3.16709301, -7.556601  , -0.21119743,  8.43510073, -1.86027444,\n",
              "       -7.12369716,  2.93069805, -7.29269814])"
            ]
          },
          "metadata": {},
          "execution_count": 30
        }
      ]
    },
    {
      "cell_type": "code",
      "source": [
        "class parameters:\n",
        "  def __init__(self):\n",
        "    self.number_in_population = 1000\n",
        "    self.number_of_generations = 500\n",
        "    self.child_rate = 0.5"
      ],
      "metadata": {
        "id": "4Ii5RxTwRO1v"
      },
      "execution_count": null,
      "outputs": []
    },
    {
      "cell_type": "code",
      "source": [
        "def run_genetic(prob, params):\n",
        "  #  read the problem\n",
        "  cost_function = prob.cost_function\n",
        "\n",
        "  #   read parameters\n",
        "  number_in_population = params.number_in_population\n",
        "  number_of_children = params.child_rate * number_in_population\n",
        "\n",
        "  #  Initialise the population\n",
        "  best_solution = individual(prob)\n",
        "  best_solution.cost = 999999\n",
        "\n",
        "  population = []\n",
        "  for i in range(number_in_population):\n",
        "    new_individual = individual(prob)\n",
        "    population.append(new_individual)\n",
        "    if new_individual.cost < best_solution.cost:\n",
        "      best_solution = deepcopy(new_individual)  # copy new_individual\n",
        "\n",
        "\n",
        "# loop  \n",
        "\n",
        "  #generate children\n",
        "  children = []\n",
        "  while len(children) < number_of_children:\n",
        "\n",
        "\n",
        "    # choose parents\n",
        "    parent1_index, parent2_index = choose_different_indices(len(population))\n",
        "    parent1 = population[parent1_index]\n",
        "    parent2 = population[parent2_index]\n",
        "    \n",
        "\n",
        "\n",
        "\n",
        "    #  cost the children\n",
        "\n",
        "\n",
        "  # add children to popuation\n",
        "\n",
        "  # sort and cull population\n",
        "\n",
        "\n",
        "\n",
        "  return population, best_solution\n",
        "\n",
        "\n",
        "\n",
        "\n"
      ],
      "metadata": {
        "id": "E8WtvmLfYjxz"
      },
      "execution_count": null,
      "outputs": []
    },
    {
      "cell_type": "code",
      "source": [
        "para = parameters()"
      ],
      "metadata": {
        "id": "9XP86XoZSGga"
      },
      "execution_count": null,
      "outputs": []
    },
    {
      "cell_type": "code",
      "source": [
        "para"
      ],
      "metadata": {
        "colab": {
          "base_uri": "https://localhost:8080/"
        },
        "id": "FdXRnrSeSQGf",
        "outputId": "91e47ae1-e888-4b87-8d6f-4763ed635a0a"
      },
      "execution_count": null,
      "outputs": [
        {
          "output_type": "execute_result",
          "data": {
            "text/plain": [
              "<__main__.parameters at 0x7f881bda3610>"
            ]
          },
          "metadata": {},
          "execution_count": 47
        }
      ]
    },
    {
      "cell_type": "code",
      "source": [
        "pop, best_sol = run_genetic(p,para)"
      ],
      "metadata": {
        "id": "170GAxdWbsa7"
      },
      "execution_count": null,
      "outputs": []
    },
    {
      "cell_type": "code",
      "source": [
        "pop[43]"
      ],
      "metadata": {
        "colab": {
          "base_uri": "https://localhost:8080/"
        },
        "id": "8CcALjqAb4Bo",
        "outputId": "aa274248-ab8d-49bb-a9f7-e91c5b4e0364"
      },
      "execution_count": null,
      "outputs": [
        {
          "output_type": "execute_result",
          "data": {
            "text/plain": [
              "<__main__.individual at 0x7f881b8911f0>"
            ]
          },
          "metadata": {},
          "execution_count": 66
        }
      ]
    },
    {
      "cell_type": "code",
      "source": [
        "pop[43]"
      ],
      "metadata": {
        "colab": {
          "base_uri": "https://localhost:8080/"
        },
        "id": "LIfo2JbaSScX",
        "outputId": "3253a14c-3af3-48e5-f77b-3ba35f306b7c"
      },
      "execution_count": null,
      "outputs": [
        {
          "output_type": "execute_result",
          "data": {
            "text/plain": [
              "<__main__.individual at 0x7f881b8911f0>"
            ]
          },
          "metadata": {},
          "execution_count": 68
        }
      ]
    },
    {
      "cell_type": "code",
      "source": [
        "i2.cost"
      ],
      "metadata": {
        "colab": {
          "base_uri": "https://localhost:8080/"
        },
        "id": "K0q6bGi7SVe7",
        "outputId": "b48e234d-2861-410c-b145-e10adb4f8d14"
      },
      "execution_count": null,
      "outputs": [
        {
          "output_type": "execute_result",
          "data": {
            "text/plain": [
              "209.68058780983174"
            ]
          },
          "metadata": {},
          "execution_count": 38
        }
      ]
    },
    {
      "cell_type": "code",
      "source": [
        "i1.chromosone"
      ],
      "metadata": {
        "colab": {
          "base_uri": "https://localhost:8080/"
        },
        "id": "k6vRJrA4SZrO",
        "outputId": "71c1faa7-c22a-40f5-919a-4d346da0160f"
      },
      "execution_count": null,
      "outputs": [
        {
          "output_type": "execute_result",
          "data": {
            "text/plain": [
              "array([-0.77621579,  9.77864776,  8.03067203, -8.25421896,  1.64978791,\n",
              "        4.08964589,  5.92886911,  9.04492036])"
            ]
          },
          "metadata": {},
          "execution_count": 39
        }
      ]
    },
    {
      "cell_type": "code",
      "source": [
        "def choose_different_indices(max_value):\n",
        "  index1 = np.random.randint(0,max_value)\n",
        "  index2 = np.random.randint(0,max_value)\n",
        "  if index1 == index2:\n",
        "    return choose_different_indices(max_value)\n",
        "  return index1, index2"
      ],
      "metadata": {
        "id": "VYT7o2hiScx0"
      },
      "execution_count": null,
      "outputs": []
    },
    {
      "cell_type": "code",
      "source": [
        "pop[1000]"
      ],
      "metadata": {
        "colab": {
          "base_uri": "https://localhost:8080/",
          "height": 166
        },
        "id": "U-fQvlNomOB5",
        "outputId": "d18f51f1-72f2-4d20-b597-de9b245c5adc"
      },
      "execution_count": null,
      "outputs": [
        {
          "output_type": "error",
          "ename": "IndexError",
          "evalue": "ignored",
          "traceback": [
            "\u001b[0;31m---------------------------------------------------------------------------\u001b[0m",
            "\u001b[0;31mIndexError\u001b[0m                                Traceback (most recent call last)",
            "\u001b[0;32m<ipython-input-92-73f9cb1fd0d6>\u001b[0m in \u001b[0;36m<module>\u001b[0;34m\u001b[0m\n\u001b[0;32m----> 1\u001b[0;31m \u001b[0mpop\u001b[0m\u001b[0;34m[\u001b[0m\u001b[0;36m1000\u001b[0m\u001b[0;34m]\u001b[0m\u001b[0;34m\u001b[0m\u001b[0;34m\u001b[0m\u001b[0m\n\u001b[0m",
            "\u001b[0;31mIndexError\u001b[0m: list index out of range"
          ]
        }
      ]
    },
    {
      "cell_type": "code",
      "source": [
        "for i in range(200):\n",
        "  i1, i2 = choose_different_indices(20)\n",
        "  print(\"First\" + str(i1) + \"Second\" + str(i2))\n",
        " \n"
      ],
      "metadata": {
        "colab": {
          "base_uri": "https://localhost:8080/"
        },
        "id": "6cyJ6urNkGBa",
        "outputId": "ae1fccc9-ec98-48d1-8293-f01b2785cd7d"
      },
      "execution_count": null,
      "outputs": [
        {
          "output_type": "stream",
          "name": "stdout",
          "text": [
            "First17Second11\n",
            "First15Second6\n",
            "First10Second8\n",
            "First4Second11\n",
            "First12Second19\n",
            "First3Second9\n",
            "First13Second14\n",
            "First6Second19\n",
            "First6Second1\n",
            "First11Second16\n",
            "First17Second7\n",
            "First18Second4\n",
            "First9Second5\n",
            "First10Second12\n",
            "First6Second16\n",
            "First4Second9\n",
            "First15Second10\n",
            "First3Second6\n",
            "First10Second1\n",
            "First7Second3\n",
            "First10Second15\n",
            "First18Second2\n",
            "First19Second6\n",
            "First15Second9\n",
            "First2Second10\n",
            "First12Second19\n",
            "First16Second17\n",
            "First6Second8\n",
            "First16Second17\n",
            "First17Second2\n",
            "First7Second0\n",
            "First3Second6\n",
            "First11Second10\n",
            "First17Second2\n",
            "First17Second7\n",
            "First16Second4\n",
            "First5Second3\n",
            "First10Second9\n",
            "First16Second9\n",
            "First11Second4\n",
            "First1Second4\n",
            "First17Second16\n",
            "First12Second17\n",
            "First13Second1\n",
            "First11Second8\n",
            "First7Second18\n",
            "First3Second15\n",
            "First16Second2\n",
            "First9Second11\n",
            "First0Second14\n",
            "First15Second19\n",
            "First12Second2\n",
            "First14Second13\n",
            "First9Second1\n",
            "First1Second15\n",
            "First0Second5\n",
            "First18Second15\n",
            "First13Second19\n",
            "First6Second18\n",
            "First15Second11\n",
            "First15Second17\n",
            "First15Second14\n",
            "First19Second15\n",
            "First14Second19\n",
            "First9Second16\n",
            "First3Second9\n",
            "First19Second11\n",
            "First14Second18\n",
            "First0Second4\n",
            "First5Second15\n",
            "First2Second17\n",
            "First6Second19\n",
            "First11Second12\n",
            "First12Second13\n",
            "First4Second15\n",
            "First6Second8\n",
            "First11Second3\n",
            "First18Second11\n",
            "First12Second2\n",
            "First4Second5\n",
            "First12Second10\n",
            "First8Second12\n",
            "First7Second18\n",
            "First13Second10\n",
            "First5Second6\n",
            "First13Second7\n",
            "First18Second19\n",
            "First8Second15\n",
            "First15Second18\n",
            "First19Second4\n",
            "First7Second11\n",
            "First4Second14\n",
            "First4Second14\n",
            "First0Second9\n",
            "First11Second17\n",
            "First15Second7\n",
            "First4Second7\n",
            "First2Second15\n",
            "First11Second12\n",
            "First7Second17\n",
            "First11Second0\n",
            "First9Second7\n",
            "First3Second14\n",
            "First6Second14\n",
            "First18Second5\n",
            "First15Second12\n",
            "First2Second13\n",
            "First4Second11\n",
            "First8Second16\n",
            "First4Second16\n",
            "First16Second0\n",
            "First13Second2\n",
            "First3Second18\n",
            "First3Second12\n",
            "First16Second8\n",
            "First3Second17\n",
            "First19Second15\n",
            "First1Second12\n",
            "First9Second15\n",
            "First11Second6\n",
            "First18Second3\n",
            "First11Second12\n",
            "First0Second9\n",
            "First1Second4\n",
            "First15Second6\n",
            "First9Second17\n",
            "First17Second4\n",
            "First4Second11\n",
            "First7Second16\n",
            "First14Second10\n",
            "First13Second18\n",
            "First19Second16\n",
            "First3Second14\n",
            "First16Second19\n",
            "First5Second16\n",
            "First18Second9\n",
            "First0Second8\n",
            "First10Second3\n",
            "First5Second6\n",
            "First15Second3\n",
            "First19Second1\n",
            "First5Second10\n",
            "First19Second7\n",
            "First8Second19\n",
            "First1Second15\n",
            "First12Second7\n",
            "First1Second3\n",
            "First1Second15\n",
            "First16Second18\n",
            "First7Second4\n",
            "First13Second11\n",
            "First0Second6\n",
            "First4Second12\n",
            "First2Second13\n",
            "First9Second13\n",
            "First0Second7\n",
            "First5Second2\n",
            "First9Second1\n",
            "First7Second3\n",
            "First10Second12\n",
            "First11Second0\n",
            "First15Second1\n",
            "First3Second8\n",
            "First3Second0\n",
            "First9Second14\n",
            "First7Second3\n",
            "First13Second5\n",
            "First16Second1\n",
            "First9Second5\n",
            "First9Second4\n",
            "First10Second17\n",
            "First3Second15\n",
            "First11Second14\n",
            "First7Second4\n",
            "First14Second19\n",
            "First10Second16\n",
            "First18Second15\n",
            "First18Second6\n",
            "First12Second7\n",
            "First14Second0\n",
            "First19Second9\n",
            "First8Second13\n",
            "First19Second3\n",
            "First5Second0\n",
            "First14Second5\n",
            "First10Second5\n",
            "First7Second15\n",
            "First8Second18\n",
            "First2Second19\n",
            "First14Second12\n",
            "First5Second15\n",
            "First12Second19\n",
            "First15Second19\n",
            "First10Second6\n",
            "First18Second0\n",
            "First8Second4\n",
            "First18Second14\n",
            "First19Second3\n",
            "First12Second5\n",
            "First5Second1\n"
          ]
        }
      ]
    },
    {
      "cell_type": "code",
      "source": [],
      "metadata": {
        "id": "ud7dQGKQkIpr"
      },
      "execution_count": null,
      "outputs": []
    }
  ]
}