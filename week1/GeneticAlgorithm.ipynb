{
  "cells": [
    {
      "cell_type": "code",
      "execution_count": 1,
      "metadata": {
        "id": "NjHy4yzoKLuc"
      },
      "outputs": [],
      "source": [
        "import numpy as np\n",
        "from numpy.core.numeric import indices\n",
        "from copy import deepcopy\n",
        "\n",
        "x = np.array([1,2,3,4,5])"
      ]
    },
    {
      "cell_type": "code",
      "execution_count": 2,
      "metadata": {
        "colab": {
          "base_uri": "https://localhost:8080/"
        },
        "id": "TFYU-b_gLEsO",
        "outputId": "3d227dd9-81e9-48b4-943d-c276eb4f3634"
      },
      "outputs": [
        {
          "data": {
            "text/plain": [
              "55"
            ]
          },
          "execution_count": 2,
          "metadata": {},
          "output_type": "execute_result"
        }
      ],
      "source": [
        "def sphere_function(x):\n",
        "  return sum(x**2)\n",
        "\n",
        "sphere_function(x)"
      ]
    },
    {
      "cell_type": "code",
      "execution_count": 3,
      "metadata": {
        "id": "KmBK5nS8LuRK"
      },
      "outputs": [],
      "source": [
        "class Problem:\n",
        "  def __init__(self):\n",
        "    self.number_of_genes = 8\n",
        "    self.min_gene_value = -10\n",
        "    self.max_gene_value = 10\n",
        "    self.cost_function = sphere_function\n"
      ]
    },
    {
      "cell_type": "code",
      "execution_count": 4,
      "metadata": {
        "id": "dfqhL2eqN4Gt"
      },
      "outputs": [],
      "source": [
        "p = Problem()\n"
      ]
    },
    {
      "cell_type": "code",
      "execution_count": 5,
      "metadata": {
        "colab": {
          "base_uri": "https://localhost:8080/"
        },
        "id": "Pupdk2YFN9YU",
        "outputId": "ced438b6-2ded-47f7-c9d9-c0d2815d08c4"
      },
      "outputs": [
        {
          "data": {
            "text/plain": [
              "8"
            ]
          },
          "execution_count": 5,
          "metadata": {},
          "output_type": "execute_result"
        }
      ],
      "source": [
        "p.number_of_genes"
      ]
    },
    {
      "cell_type": "code",
      "execution_count": 6,
      "metadata": {
        "id": "glxc9qyBOA_l"
      },
      "outputs": [],
      "source": [
        "y = np.array([-1,3,-5,8,3,9,2,0])"
      ]
    },
    {
      "cell_type": "code",
      "execution_count": 7,
      "metadata": {
        "colab": {
          "base_uri": "https://localhost:8080/"
        },
        "id": "1UqiqAOEOW_x",
        "outputId": "ec8eda28-0585-4d68-90c3-62ff071b5793"
      },
      "outputs": [
        {
          "data": {
            "text/plain": [
              "193"
            ]
          },
          "execution_count": 7,
          "metadata": {},
          "output_type": "execute_result"
        }
      ],
      "source": [
        "p.cost_function(y)"
      ]
    },
    {
      "cell_type": "code",
      "execution_count": 8,
      "metadata": {
        "colab": {
          "base_uri": "https://localhost:8080/"
        },
        "id": "FjBH8swbOgoE",
        "outputId": "3bb05413-4c39-45f9-ca99-48473bd180dc"
      },
      "outputs": [
        {
          "data": {
            "text/plain": [
              "193"
            ]
          },
          "execution_count": 8,
          "metadata": {},
          "output_type": "execute_result"
        }
      ],
      "source": [
        "sphere_function(y)"
      ]
    },
    {
      "cell_type": "code",
      "execution_count": 13,
      "metadata": {
        "colab": {
          "base_uri": "https://localhost:8080/"
        },
        "id": "lEyMJPhjOkLr",
        "outputId": "69cb7b35-8e7e-4e15-feca-18cd47ed36e8"
      },
      "outputs": [
        {
          "data": {
            "text/plain": [
              "array([ 1.42169423,  5.03141771,  1.43894428, -4.30565382, -9.46663713])"
            ]
          },
          "execution_count": 13,
          "metadata": {},
          "output_type": "execute_result"
        }
      ],
      "source": [
        "\n",
        "class Individual:\n",
        "  def __init__(self, prob):\n",
        "    self.chromosone = np.random.uniform(prob.min_gene_value, prob.max_gene_value, prob.number_of_genes)\n",
        "    self.cost = prob.cost_function(self.chromosone)\n",
        "\n",
        "np.random.uniform(-10,10,5)"
      ]
    },
    {
      "cell_type": "code",
      "execution_count": 15,
      "metadata": {
        "id": "OawRZxNtRYG1"
      },
      "outputs": [
        {
          "data": {
            "text/plain": [
              "310.4705227506487"
            ]
          },
          "execution_count": 15,
          "metadata": {},
          "output_type": "execute_result"
        }
      ],
      "source": [
        "i1 = Individual(p)\n",
        "i1.cost"
      ]
    },
    {
      "cell_type": "code",
      "execution_count": 16,
      "metadata": {
        "id": "GwMOAqWfSS1b"
      },
      "outputs": [
        {
          "data": {
            "text/plain": [
              "338.12677774004396"
            ]
          },
          "execution_count": 16,
          "metadata": {},
          "output_type": "execute_result"
        }
      ],
      "source": [
        "i2 = Individual(p)\n",
        "i2.cost"
      ]
    },
    {
      "cell_type": "code",
      "execution_count": 40,
      "metadata": {
        "id": "xGVda-zeScBy"
      },
      "outputs": [],
      "source": [
        "class Parameters:\n",
        "  def __init__(self):\n",
        "    self.number_in_population = 10000\n",
        "    self.number_of_generations = 5000\n",
        "    self.child_rate = 0.5\n",
        "\n",
        "para = Parameters()"
      ]
    },
    {
      "cell_type": "code",
      "execution_count": 41,
      "metadata": {
        "id": "PhKjRXi2bt2F"
      },
      "outputs": [],
      "source": [
        "def choose_diff_indices(max_value):\n",
        "  index1 = np.random.randint(0, max_value)\n",
        "  index2 = np.random.randint(0, max_value)\n",
        "  if index1 == index2:\n",
        "    return choose_diff_indices(max_value)\n",
        "  else:\n",
        "    return index1, index2"
      ]
    },
    {
      "cell_type": "code",
      "execution_count": 43,
      "metadata": {
        "id": "PjjazHgyT5wK"
      },
      "outputs": [
        {
          "name": "stdout",
          "output_type": "stream",
          "text": [
            "[ 9.96322939 -5.74904615 -9.06265818 -7.24637119  8.41599968  9.45266606\n",
            " -4.26424209  7.23655028]\n",
            "497.692507050852\n"
          ]
        },
        {
          "data": {
            "text/plain": [
              "24.918372865970596"
            ]
          },
          "execution_count": 43,
          "metadata": {},
          "output_type": "execute_result"
        }
      ],
      "source": [
        "def run_genetic(prob, params):\n",
        "  # read the problem\n",
        "  cost_function = prob.cost_function\n",
        "\n",
        "  # read parameters\n",
        "  number_in_population = params.number_in_population\n",
        "  number_of_children = params.child_rate * number_in_population\n",
        "\n",
        "  # initialise the population\n",
        "  best_solution = Individual(prob)\n",
        "  best_solution.cost = 999999\n",
        "\n",
        "  population = []\n",
        "  for i in range(number_in_population):\n",
        "    new_individual = Individual(prob)\n",
        "    population.append(new_individual)\n",
        "    if new_individual.cost < best_solution.cost:\n",
        "      best_solution = deepcopy(new_individual)\n",
        "\n",
        "\n",
        "  # generate children\n",
        "  children = []\n",
        "  while len(children) < number_of_children:\n",
        "\n",
        "     # choose parents\n",
        "    parent1_index, parent2_index = choose_diff_indices(len(population))\n",
        "    parent1 = population[parent1_index]\n",
        "    parent2 = population[parent2_index]\n",
        "     # cost of chidren\n",
        "\n",
        "    children.append(choose_diff_indices(10))\n",
        "\n",
        "  return population, best_solution\n",
        "\n",
        "pop, best_sol = run_genetic(p, para)\n",
        "\n",
        "print(pop[499].chromosone)\n",
        "print(pop[499].cost)\n",
        "\n",
        "best_sol.cost"
      ]
    },
    {
      "cell_type": "code",
      "execution_count": 45,
      "metadata": {
        "id": "Q6LGCnLTkFne"
      },
      "outputs": [
        {
          "data": {
            "text/plain": [
              "(194, 1790)"
            ]
          },
          "execution_count": 45,
          "metadata": {},
          "output_type": "execute_result"
        }
      ],
      "source": [
        "choose_diff_indices(2000)"
      ]
    }
  ],
  "metadata": {
    "colab": {
      "provenance": []
    },
    "kernelspec": {
      "display_name": "Python 3.10.5 ('.venv': venv)",
      "language": "python",
      "name": "python3"
    },
    "language_info": {
      "codemirror_mode": {
        "name": "ipython",
        "version": 3
      },
      "file_extension": ".py",
      "mimetype": "text/x-python",
      "name": "python",
      "nbconvert_exporter": "python",
      "pygments_lexer": "ipython3",
      "version": "3.10.5"
    },
    "vscode": {
      "interpreter": {
        "hash": "072d63d6d7ab3587f4955b1097238bfbd1a66f70208eb562cbd9f46f67409b14"
      }
    }
  },
  "nbformat": 4,
  "nbformat_minor": 0
}
