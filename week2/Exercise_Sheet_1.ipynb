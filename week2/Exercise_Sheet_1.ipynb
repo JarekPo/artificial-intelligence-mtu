{
  "cells": [
    {
      "cell_type": "code",
      "execution_count": null,
      "metadata": {
        "id": "qGSHEGG3ICFa"
      },
      "outputs": [],
      "source": [
        "import numpy as np\n",
        "from copy import deepcopy"
      ]
    },
    {
      "cell_type": "markdown",
      "metadata": {
        "id": "2wcNjM5A72jb"
      },
      "source": [
        "**The Sphere Function:**\n",
        "The following is a sphere function which has a ***minimum*** value of 0 when passed  a vector containing all 0s.    We use this as a \"toy\" problem to show if the algorithm is working properly, i.e. the algorithm should \"find\" or \"approximate\" the solution with all 0's"
      ]
    },
    {
      "cell_type": "code",
      "execution_count": null,
      "metadata": {
        "id": "k8FUM304K_4T"
      },
      "outputs": [],
      "source": [
        "def sphere_function(x):\n",
        "  return sum(x**2)"
      ]
    },
    {
      "cell_type": "markdown",
      "metadata": {
        "id": "F2KS0B7d85gj"
      },
      "source": [
        "**Exercise**  Adjust the function above to look for the solution (1,2,3,4,5)\n",
        "\n",
        "*Hint:    If x = 3 then (x-3) = 0*\n"
      ]
    },
    {
      "cell_type": "markdown",
      "metadata": {
        "id": "-eWFva7l973L"
      },
      "source": [
        "**Exercise** Adjust the function above to look for the solution (1,2,4,8,...,2m)  where m could be any integer greater than 2\n",
        "\n",
        "*Hint: If x = 3 then (x-3) = 0 and you may need to use a for loop*"
      ]
    },
    {
      "cell_type": "markdown",
      "metadata": {
        "id": "xsAj8SFY-0YL"
      },
      "source": [
        "**Exercise**   Write a cost function which would solve the following linear inequality problem\n",
        "\n",
        "Minimise the following function $3x+4y+5z$ subject to the following conditions..\n",
        "$x\\ge0 , y\\ge0 , z\\ge0$\n",
        "\n",
        "$x+y+z >10$         \n",
        "$2y+4z > 25$\n"
      ]
    },
    {
      "cell_type": "markdown",
      "metadata": {
        "id": "5zMcGWn_BeBj"
      },
      "source": [
        "**Exercise** If you wanted to find the solution which ***maximised*** a given function e.g. $f(x,y,z) = 5-2x^2 -7y^4 - 10 z^6$  how could you construct the cost function here.\n"
      ]
    },
    {
      "cell_type": "markdown",
      "metadata": {
        "id": "jCfcJD5-C67L"
      },
      "source": [
        "\n",
        "\n",
        "---\n",
        "\n",
        "\n",
        "**The Problem Definition**\n",
        "\n",
        "The following Class defines the problem, this will change accoring to the problem you are looking to solve."
      ]
    },
    {
      "cell_type": "code",
      "execution_count": null,
      "metadata": {
        "id": "mhxf_46iMcit"
      },
      "outputs": [],
      "source": [
        "class problem:\n",
        "  def __init__(self):\n",
        "    self.number_of_genes = 8\n",
        "    self.min_gene_value = -10\n",
        "    self.max_gene_value = 10\n",
        "    self.cost_function = sphere_function"
      ]
    },
    {
      "cell_type": "markdown",
      "metadata": {
        "id": "36qI-nH7D2DE"
      },
      "source": [
        "---\n",
        "**Exercise**  Re-write the above problem for each of the exercises above.\n"
      ]
    },
    {
      "cell_type": "code",
      "execution_count": null,
      "metadata": {
        "id": "yyKrrWkXLkXR"
      },
      "outputs": [],
      "source": [
        "p = problem()"
      ]
    },
    {
      "cell_type": "code",
      "execution_count": null,
      "metadata": {
        "id": "eewJKsg3Oh56"
      },
      "outputs": [],
      "source": [
        "class individual:\n",
        "  # This class defines the individual for the genetic algorithm. We hope to find the individual which solves our problem\n",
        "  chromosone = None\n",
        "\n",
        "  def __init__(self, prob):    #  This is the constructor for the individual and as such needs the problem to mould the individuals to it\n",
        "    #Create a random individual.\n",
        "    self.chromosone = np.random.uniform(prob.min_gene_value,prob.max_gene_value,prob.number_of_genes)    \n",
        "    self.cost = prob.cost_function(self.chromosone)"
      ]
    },
    {
      "cell_type": "code",
      "execution_count": null,
      "metadata": {
        "id": "4Ii5RxTwRO1v"
      },
      "outputs": [],
      "source": [
        "class parameters:\n",
        "  def __init__(self):\n",
        "    self.number_in_population = 1000\n",
        "    self.number_of_generations = 500\n",
        "    self.child_rate = 0.5"
      ]
    },
    {
      "cell_type": "markdown",
      "metadata": {
        "id": "Vypbsy4qGFlT"
      },
      "source": [
        "**Exercise**   Write a for loop that creates a parameters instance with populations ranging from 100 to 1000 in steps of 100\n",
        "\n",
        "**Exercise**    Write nested for loops to cover all possible parameter setups with\n",
        "\n",
        "$100 \\le$ number_in_population $\\le 1000$ in steps of 100\n",
        "\n",
        "$100 \\le$ number_of_generations $\\le 500$ in steps of 50\n",
        "\n",
        "$0.1 \\le$ child_rate $\\le 1$ in steps of 0.1"
      ]
    },
    {
      "cell_type": "markdown",
      "metadata": {
        "id": "WsO4mpDvFhT6"
      },
      "source": [
        "\n",
        "\n",
        "---\n",
        "**Executing the Genetic Algorithm**\n",
        "\n",
        "The following method executes the genetic algorithm, for the problem passed in as prob, and with the parameters passed in as params. This will...\n",
        "\n",
        "\n",
        "\n",
        "*   Read in the problem and the parameters for the algorithm\n",
        "*   Initialise the population\n",
        "\n",
        "\n",
        "> *   Create the required amount of appropriately randomly generated individuals\n",
        "*   Keep track of the \"Best individual/ best cost\"\n",
        "\n",
        "The algorithm runs over many generations (max number usually specified in parameters)\n",
        "\n",
        "Repeat following until max number of generations reached or solution found\n",
        "  \n",
        "\n",
        "---\n",
        "\n",
        "\n",
        "  >Generate this generation of children \n",
        "\n",
        "\n",
        "*   Select Parents\n",
        "*   Crossover Parents -> Children\n",
        "*   Mutate\n",
        "\n",
        "\n",
        "Add Children to population\n",
        "\n",
        "Sort and Cull population\n",
        "*   Update best solution if better found\n",
        "---\n",
        "\n",
        "Usuall return the Best Solution/ Cost as the solution to the problem\n",
        "\n",
        "\n"
      ]
    },
    {
      "cell_type": "code",
      "execution_count": null,
      "metadata": {
        "id": "E8WtvmLfYjxz"
      },
      "outputs": [],
      "source": [
        "def run_genetic(prob, params):\n",
        "  #  read the problem\n",
        "  cost_function = prob.cost_function\n",
        "\n",
        "  #   read parameters\n",
        "  number_in_population = params.number_in_population\n",
        "  number_of_children = params.child_rate * number_in_population\n",
        "\n",
        "  #  Initialise the population\n",
        "  best_solution = individual(prob)\n",
        "  best_solution.cost = 999999\n",
        "\n",
        "  population = []\n",
        "  for i in range(number_in_population):\n",
        "    new_individual = individual(prob)\n",
        "    population.append(new_individual)\n",
        "    if new_individual.cost < best_solution.cost:\n",
        "      best_solution = deepcopy(new_individual)  # copy new_individual\n",
        "\n",
        "\n",
        "# loop  \n",
        "\n",
        "  #generate children\n",
        "  children = []\n",
        "  while len(children) < number_of_children:\n",
        "\n",
        "\n",
        "    # choose parents\n",
        "    parent1_index, parent2_index = choose_different_indices(len(population))\n",
        "    parent1 = population[parent1_index]\n",
        "    parent2 = population[parent2_index]\n",
        "    \n",
        "\n",
        "\n",
        "\n",
        "    #  cost the children\n",
        "\n",
        "\n",
        "  # add children to popuation\n",
        "\n",
        "  # sort and cull population\n",
        "\n",
        "\n",
        "\n",
        "  return population, best_solution\n",
        "\n",
        "\n",
        "\n",
        "\n"
      ]
    }
  ],
  "metadata": {
    "colab": {
      "provenance": []
    },
    "kernelspec": {
      "display_name": ".venv",
      "language": "python",
      "name": "python3"
    },
    "language_info": {
      "name": "python",
      "version": "3.10.5 (tags/v3.10.5:f377153, Jun  6 2022, 16:14:13) [MSC v.1929 64 bit (AMD64)]"
    },
    "vscode": {
      "interpreter": {
        "hash": "072d63d6d7ab3587f4955b1097238bfbd1a66f70208eb562cbd9f46f67409b14"
      }
    }
  },
  "nbformat": 4,
  "nbformat_minor": 0
}
