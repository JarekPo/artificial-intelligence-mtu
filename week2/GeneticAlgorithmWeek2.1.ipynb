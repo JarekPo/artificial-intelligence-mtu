{
  "cells": [
    {
      "cell_type": "code",
      "execution_count": 1,
      "metadata": {
        "id": "NjHy4yzoKLuc"
      },
      "outputs": [],
      "source": [
        "import numpy as np\n",
        "from numpy.core.numeric import indices\n",
        "from copy import deepcopy"
      ]
    },
    {
      "cell_type": "code",
      "execution_count": 2,
      "metadata": {
        "id": "VSoEgyejs3gw"
      },
      "outputs": [],
      "source": [
        "def orderedNumbers(x):\n",
        "  return (x[0]-1)*(x[0]-1) + (x[1]-2)*(x[1]-2) + (x[2]-3)*(x[2]-3) + (x[3]-4)*(x[3]-4) + (x[4]-5)*(x[4]-5)"
      ]
    },
    {
      "cell_type": "code",
      "execution_count": 4,
      "metadata": {
        "id": "49yZVmAgtmGx"
      },
      "outputs": [],
      "source": [
        "class Problem:\n",
        "  def __init__(self):\n",
        "    self.number_of_genes = 5\n",
        "    self.min_gene_value = -5\n",
        "    self.max_gene_value = 5\n",
        "    self.cost_function = orderedNumbers"
      ]
    },
    {
      "cell_type": "code",
      "execution_count": 5,
      "metadata": {
        "id": "dfqhL2eqN4Gt"
      },
      "outputs": [],
      "source": [
        "p = Problem()\n"
      ]
    },
    {
      "cell_type": "code",
      "execution_count": 6,
      "metadata": {
        "colab": {
          "base_uri": "https://localhost:8080/"
        },
        "id": "Pupdk2YFN9YU",
        "outputId": "ee180d4d-e460-4991-d1d9-e725acbc2f47"
      },
      "outputs": [
        {
          "data": {
            "text/plain": [
              "5"
            ]
          },
          "execution_count": 6,
          "metadata": {},
          "output_type": "execute_result"
        }
      ],
      "source": [
        "p.number_of_genes"
      ]
    },
    {
      "cell_type": "code",
      "execution_count": 7,
      "metadata": {
        "colab": {
          "base_uri": "https://localhost:8080/"
        },
        "id": "lEyMJPhjOkLr",
        "outputId": "35bb94de-6bc9-43ff-a235-0bda4579e265"
      },
      "outputs": [
        {
          "data": {
            "text/plain": [
              "array([ 9.51138196,  0.99684031, -4.09648586,  8.92174899, -4.48321571])"
            ]
          },
          "execution_count": 7,
          "metadata": {},
          "output_type": "execute_result"
        }
      ],
      "source": [
        "\n",
        "class Individual:\n",
        "  chromosone = None\n",
        "  def __init__(self, prob):\n",
        "    prob.number_of_genes\n",
        "    self.chromosone = np.random.uniform(prob.min_gene_value, prob.max_gene_value, prob.number_of_genes)\n",
        "    self.cost = prob.cost_function(self.chromosone)\n",
        "  \n",
        "  def crossover(self, other_parent, epsilon):\n",
        "    # alpha is random number in range -epsilon to 1+epsilon (uniform)\n",
        "    alpha = np.random.uniform(-epsilon, 1+epsilon)\n",
        "    child1 = deepcopy(self)\n",
        "    child2 = deepcopy(other_parent)\n",
        "    child1.chromosone = alpha * self.chromosone + (1-alpha)*other_parent.chromosone\n",
        "    child2.chromosone = (1-alpha) * self.chromosone + alpha*other_parent.chromosone\n",
        "\n",
        "    return child1, child2\n",
        "\n",
        "  def mutate(self, mutation_rate, range_change):\n",
        "    for index in range(len(self.chromosone)):\n",
        "      if (np.random.uniform() < mutation_rate):\n",
        "        self.chromosone[index] += np.random.randn()*range_change\n",
        "\n",
        "p1 = Individual(p)\n",
        "p2 = Individual(p)\n",
        "\n",
        "c1, c2 = p1.crossover(p2, 0.1)\n",
        "p1.chromosone + p2.chromosone\n",
        "c1.chromosone + c2.chromosone\n",
        "\n",
        "np.random.uniform(-10,10,5)"
      ]
    },
    {
      "cell_type": "code",
      "execution_count": 8,
      "metadata": {
        "colab": {
          "base_uri": "https://localhost:8080/"
        },
        "id": "ywO5JPh-k-1j",
        "outputId": "32693867-2382-4065-a1ae-a5eb66f332e0"
      },
      "outputs": [
        {
          "name": "stdout",
          "output_type": "stream",
          "text": [
            "<__main__.Individual object at 0x0000021F3E7B7E20>\n",
            "<__main__.Individual object at 0x0000021F3E7B7E20>\n"
          ]
        }
      ],
      "source": [
        "p1.chromosone\n",
        "print(p1)\n",
        "p1.mutate(0.5, 2)\n",
        "print(p1)"
      ]
    },
    {
      "cell_type": "code",
      "execution_count": 9,
      "metadata": {
        "id": "OawRZxNtRYG1"
      },
      "outputs": [],
      "source": [
        "i1 = Individual(p)"
      ]
    },
    {
      "cell_type": "code",
      "execution_count": 10,
      "metadata": {
        "colab": {
          "base_uri": "https://localhost:8080/"
        },
        "id": "fH0iyUj4SQtS",
        "outputId": "7e08998d-fbec-4acd-ce0c-20c5a5f4ccfe"
      },
      "outputs": [
        {
          "data": {
            "text/plain": [
              "106.69906531798733"
            ]
          },
          "execution_count": 10,
          "metadata": {},
          "output_type": "execute_result"
        }
      ],
      "source": [
        "i1.cost"
      ]
    },
    {
      "cell_type": "code",
      "execution_count": 11,
      "metadata": {
        "id": "GwMOAqWfSS1b"
      },
      "outputs": [],
      "source": [
        "i2 = Individual(p)"
      ]
    },
    {
      "cell_type": "code",
      "execution_count": 12,
      "metadata": {
        "colab": {
          "base_uri": "https://localhost:8080/"
        },
        "id": "0UnnVD-cSZiV",
        "outputId": "8e9a8841-9de1-4e71-8e7a-509e3d34af8a"
      },
      "outputs": [
        {
          "data": {
            "text/plain": [
              "147.09593242018298"
            ]
          },
          "execution_count": 12,
          "metadata": {},
          "output_type": "execute_result"
        }
      ],
      "source": [
        "i2.cost"
      ]
    },
    {
      "cell_type": "code",
      "execution_count": 13,
      "metadata": {
        "id": "xGVda-zeScBy"
      },
      "outputs": [],
      "source": [
        "class Parameters:\n",
        "  def __init__(self):\n",
        "    self.number_in_population = 1000\n",
        "    self.number_of_generations = 500\n",
        "    self.child_rate = 0.5\n",
        "    self.crossover_explore = 0.1\n",
        "    self.mutation_rate = 0.2\n",
        "    self.range_of_gene_mutation = 0.3\n",
        "\n",
        "para = Parameters()"
      ]
    },
    {
      "cell_type": "code",
      "execution_count": 14,
      "metadata": {
        "id": "PhKjRXi2bt2F"
      },
      "outputs": [],
      "source": [
        "def choose_diff_indices(max_value):\n",
        "  index1 = np.random.randint(0, max_value)\n",
        "  index2 = np.random.randint(0, max_value)\n",
        "  if index1 == index2:\n",
        "    return choose_diff_indices(max_value)\n",
        "  else:\n",
        "    return index1, index2"
      ]
    },
    {
      "cell_type": "code",
      "execution_count": 15,
      "metadata": {
        "colab": {
          "base_uri": "https://localhost:8080/"
        },
        "id": "PjjazHgyT5wK",
        "outputId": "ce372cf1-1b96-4919-bae7-ed77aa2afe89"
      },
      "outputs": [
        {
          "data": {
            "text/plain": [
              "2.9648324810346487e-08"
            ]
          },
          "execution_count": 15,
          "metadata": {},
          "output_type": "execute_result"
        }
      ],
      "source": [
        "def run_genetic(prob, params):\n",
        "  # read the problem\n",
        "  cost_function = prob.cost_function\n",
        "\n",
        "  # read parameters\n",
        "  number_in_population = params.number_in_population\n",
        "  number_of_children = params.child_rate * number_in_population\n",
        "  explore_rate_crossover = params.crossover_explore\n",
        "  mutation_rate = params.mutation_rate\n",
        "  range_of_mutation = params.range_of_gene_mutation\n",
        "  max_number_of_iterations = params.number_of_generations\n",
        "\n",
        "  # initialise the population\n",
        "  best_solution = Individual(prob)\n",
        "  best_solution.cost = 999999\n",
        "\n",
        "  population = []\n",
        "  for i in range(number_in_population):\n",
        "    new_individual = Individual(prob)\n",
        "    population.append(new_individual)\n",
        "    if new_individual.cost < best_solution.cost:\n",
        "      best_solution = deepcopy(new_individual)\n",
        "\n",
        "  # loop over generations\n",
        "  for iteration in range(max_number_of_iterations):\n",
        "\n",
        "    # generate children\n",
        "    children = []\n",
        "    while len(children) < number_of_children:\n",
        "\n",
        "      # choose parents\n",
        "      parent1_index, parent2_index = choose_diff_indices(len(population))\n",
        "      parent1 = population[parent1_index]\n",
        "      parent2 = population[parent2_index]\n",
        "\n",
        "      child1, child2 = parent1.crossover(parent2, explore_rate_crossover)\n",
        "\n",
        "      # mutate children\n",
        "      child1.mutate(mutation_rate, range_of_mutation)\n",
        "      child2.mutate(mutation_rate, range_of_mutation)\n",
        "\n",
        "      # cost of chidren\n",
        "      child1.cost = cost_function(child1.chromosone)\n",
        "      child2.cost = cost_function(child2.chromosone)\n",
        "\n",
        "      children.append(child1)\n",
        "      children.append(child2)\n",
        "\n",
        "    # add children to population\n",
        "    population += children\n",
        "\n",
        "    # sort and cull population\n",
        "    population = sorted(population, key = lambda x: x.cost)\n",
        "    population = population[:number_in_population]\n",
        "\n",
        "    if population[0].cost < best_solution.cost:\n",
        "      best_solution= deepcopy(population[0])\n",
        "\n",
        "  return population, best_solution\n",
        "\n",
        "pop, best_sol = run_genetic(p, para)\n",
        "\n",
        "best_sol.cost"
      ]
    },
    {
      "cell_type": "code",
      "execution_count": 16,
      "metadata": {
        "id": "Q6LGCnLTkFne"
      },
      "outputs": [],
      "source": [
        "prob = Problem()\n",
        "param = Parameters()\n",
        "\n",
        "pop, best = run_genetic(prob, param)"
      ]
    },
    {
      "cell_type": "code",
      "execution_count": 30,
      "metadata": {
        "colab": {
          "base_uri": "https://localhost:8080/"
        },
        "id": "rjdNRkjGkbZz",
        "outputId": "649b3dce-8d11-472f-e04d-94b37e241de4"
      },
      "outputs": [
        {
          "name": "stdout",
          "output_type": "stream",
          "text": [
            "3.77042617878734e-08\n",
            "3.143454270693401e-08\n"
          ]
        }
      ],
      "source": [
        "print(pop[600].cost)\n",
        "print(best.cost)"
      ]
    },
    {
      "cell_type": "code",
      "execution_count": 22,
      "metadata": {
        "colab": {
          "base_uri": "https://localhost:8080/"
        },
        "id": "1u5Ba548sfpB",
        "outputId": "5530b87f-bf3a-4bb8-daad-b4907263596f"
      },
      "outputs": [
        {
          "data": {
            "text/plain": [
              "array([1.00006314, 1.99985994, 2.99993454, 3.99995583, 4.99996004])"
            ]
          },
          "execution_count": 22,
          "metadata": {},
          "output_type": "execute_result"
        }
      ],
      "source": [
        "best.chromosone"
      ]
    }
  ],
  "metadata": {
    "colab": {
      "provenance": []
    },
    "kernelspec": {
      "display_name": ".venv",
      "language": "python",
      "name": "python3"
    },
    "language_info": {
      "codemirror_mode": {
        "name": "ipython",
        "version": 3
      },
      "file_extension": ".py",
      "mimetype": "text/x-python",
      "name": "python",
      "nbconvert_exporter": "python",
      "pygments_lexer": "ipython3",
      "version": "3.10.5"
    },
    "vscode": {
      "interpreter": {
        "hash": "072d63d6d7ab3587f4955b1097238bfbd1a66f70208eb562cbd9f46f67409b14"
      }
    }
  },
  "nbformat": 4,
  "nbformat_minor": 0
}
