{
  "cells": [
    {
      "cell_type": "code",
      "execution_count": 1,
      "metadata": {
        "id": "NjHy4yzoKLuc"
      },
      "outputs": [],
      "source": [
        "import numpy as np\n",
        "from numpy.core.numeric import indices\n",
        "from copy import deepcopy"
      ]
    },
    {
      "attachments": {},
      "cell_type": "markdown",
      "metadata": {},
      "source": [
        "Exercise If you wanted to find the solution which maximised a given function e.g.  f(x,y,z)=5−2x2−7y4−10z6  how could you construct the cost function here."
      ]
    },
    {
      "cell_type": "code",
      "execution_count": 29,
      "metadata": {},
      "outputs": [
        {
          "data": {
            "text/plain": [
              "5.000030042126497"
            ]
          },
          "execution_count": 29,
          "metadata": {},
          "output_type": "execute_result"
        }
      ],
      "source": [
        "def maximise(x):\n",
        "    if 5 - 2*x[0]**2 - 7*x[1]**4 - 10*x[2]**6 < 0 or 5 - 2*x[0]**2 - 7*x[1]**4 - 10*x[2]**6 > 5:\n",
        "        return 10000\n",
        "    return 5 - (2*x[0]**2 - 7*x[1]**4 - 10*x[2]**6)+5\n",
        "\n",
        "maximise([-1.58113408e+00,  6.23330191e-04, -5.66930482e-03])"
      ]
    },
    {
      "cell_type": "code",
      "execution_count": 4,
      "metadata": {
        "id": "49yZVmAgtmGx"
      },
      "outputs": [],
      "source": [
        "class Problem:\n",
        "  def __init__(self):\n",
        "    self.number_of_genes = 3\n",
        "    self.min_gene_value = -10\n",
        "    self.max_gene_value = 10\n",
        "    self.cost_function = maximise"
      ]
    },
    {
      "cell_type": "code",
      "execution_count": 6,
      "metadata": {
        "id": "dfqhL2eqN4Gt"
      },
      "outputs": [],
      "source": [
        "p = Problem()\n"
      ]
    },
    {
      "cell_type": "code",
      "execution_count": 7,
      "metadata": {
        "colab": {
          "base_uri": "https://localhost:8080/"
        },
        "id": "lEyMJPhjOkLr",
        "outputId": "35bb94de-6bc9-43ff-a235-0bda4579e265"
      },
      "outputs": [
        {
          "data": {
            "text/plain": [
              "array([-1.10856926,  8.21384681, -1.98994923])"
            ]
          },
          "execution_count": 7,
          "metadata": {},
          "output_type": "execute_result"
        }
      ],
      "source": [
        "\n",
        "class Individual:\n",
        "  chromosone = None\n",
        "  def __init__(self, prob):\n",
        "    prob.number_of_genes\n",
        "    self.chromosone = np.random.uniform(prob.min_gene_value, prob.max_gene_value, prob.number_of_genes)\n",
        "    self.cost = prob.cost_function(self.chromosone)\n",
        "  \n",
        "  def crossover(self, other_parent, epsilon):\n",
        "    # alpha is random number in range -epsilon to 1+epsilon (uniform)\n",
        "    alpha = np.random.uniform(-epsilon, 1+epsilon)\n",
        "    child1 = deepcopy(self)\n",
        "    child2 = deepcopy(other_parent)\n",
        "    child1.chromosone = alpha * self.chromosone + (1-alpha)*other_parent.chromosone\n",
        "    child2.chromosone = (1-alpha) * self.chromosone + alpha*other_parent.chromosone\n",
        "\n",
        "    return child1, child2\n",
        "\n",
        "  def mutate(self, mutation_rate, range_change):\n",
        "    for index in range(len(self.chromosone)):\n",
        "      if (np.random.uniform() < mutation_rate):\n",
        "        self.chromosone[index] += np.random.randn()*range_change\n",
        "\n",
        "p1 = Individual(p)\n",
        "p2 = Individual(p)\n",
        "\n",
        "c1, c2 = p1.crossover(p2, 0.1)\n",
        "p1.chromosone + p2.chromosone\n",
        "c1.chromosone + c2.chromosone\n"
      ]
    },
    {
      "cell_type": "code",
      "execution_count": 8,
      "metadata": {
        "colab": {
          "base_uri": "https://localhost:8080/"
        },
        "id": "ywO5JPh-k-1j",
        "outputId": "32693867-2382-4065-a1ae-a5eb66f332e0"
      },
      "outputs": [
        {
          "name": "stdout",
          "output_type": "stream",
          "text": [
            "<__main__.Individual object at 0x0000027C4E3DB910>\n",
            "<__main__.Individual object at 0x0000027C4E3DB910>\n"
          ]
        }
      ],
      "source": [
        "p1.chromosone\n",
        "print(p1)\n",
        "p1.mutate(0.5, 2)\n",
        "print(p1)"
      ]
    },
    {
      "cell_type": "code",
      "execution_count": 9,
      "metadata": {
        "id": "OawRZxNtRYG1"
      },
      "outputs": [],
      "source": [
        "i1 = Individual(p)"
      ]
    },
    {
      "cell_type": "code",
      "execution_count": 10,
      "metadata": {
        "id": "GwMOAqWfSS1b"
      },
      "outputs": [],
      "source": [
        "i2 = Individual(p)"
      ]
    },
    {
      "cell_type": "code",
      "execution_count": 11,
      "metadata": {
        "id": "xGVda-zeScBy"
      },
      "outputs": [],
      "source": [
        "class Parameters:\n",
        "  def __init__(self):\n",
        "    self.number_in_population = 1000\n",
        "    self.number_of_generations = 500\n",
        "    self.child_rate = 0.5\n",
        "    self.crossover_explore = 0.1\n",
        "    self.mutation_rate = 0.2\n",
        "    self.range_of_gene_mutation = 0.3\n",
        "\n",
        "para = Parameters()"
      ]
    },
    {
      "cell_type": "code",
      "execution_count": 42,
      "metadata": {},
      "outputs": [
        {
          "name": "stdout",
          "output_type": "stream",
          "text": [
            "100\n",
            "200\n",
            "300\n",
            "400\n",
            "500\n",
            "600\n",
            "700\n",
            "800\n",
            "900\n",
            "1000\n",
            "100\n",
            "150\n",
            "200\n",
            "250\n",
            "300\n",
            "350\n",
            "400\n",
            "450\n",
            "500\n",
            "0.1\n",
            "0.2\n",
            "0.3\n",
            "0.4\n",
            "0.5\n",
            "0.6\n",
            "0.7\n",
            "0.8\n",
            "0.9\n"
          ]
        }
      ],
      "source": [
        "for x in range(100,1001,100):\n",
        "    p = Parameters()\n",
        "    p.number_in_population = x\n",
        "    print(p.number_in_population)\n",
        "\n",
        "for x in range(100,501,50):\n",
        "    p = Parameters()\n",
        "    p.number_in_population = x\n",
        "    print(p.number_in_population)\n",
        "\n",
        "for x in range(1,10,1):\n",
        "    p = Parameters()\n",
        "    p.child_rate = x/10\n",
        "    print(p.child_rate)"
      ]
    },
    {
      "cell_type": "code",
      "execution_count": 12,
      "metadata": {
        "id": "PhKjRXi2bt2F"
      },
      "outputs": [],
      "source": [
        "def choose_diff_indices(max_value):\n",
        "  index1 = np.random.randint(0, max_value)\n",
        "  index2 = np.random.randint(0, max_value)\n",
        "  if index1 == index2:\n",
        "    return choose_diff_indices(max_value)\n",
        "  else:\n",
        "    return index1, index2"
      ]
    },
    {
      "cell_type": "code",
      "execution_count": 30,
      "metadata": {
        "colab": {
          "base_uri": "https://localhost:8080/"
        },
        "id": "PjjazHgyT5wK",
        "outputId": "ce372cf1-1b96-4919-bae7-ed77aa2afe89"
      },
      "outputs": [
        {
          "data": {
            "text/plain": [
              "8.309514454743174e-14"
            ]
          },
          "execution_count": 30,
          "metadata": {},
          "output_type": "execute_result"
        }
      ],
      "source": [
        "def run_genetic(prob, params):\n",
        "  # read the problem\n",
        "  cost_function = prob.cost_function\n",
        "\n",
        "  # read parameters\n",
        "  number_in_population = params.number_in_population\n",
        "  number_of_children = params.child_rate * number_in_population\n",
        "  explore_rate_crossover = params.crossover_explore\n",
        "  mutation_rate = params.mutation_rate\n",
        "  range_of_mutation = params.range_of_gene_mutation\n",
        "  max_number_of_iterations = params.number_of_generations\n",
        "\n",
        "  # initialise the population\n",
        "  best_solution = Individual(prob)\n",
        "  best_solution.cost = 999999\n",
        "\n",
        "  population = []\n",
        "  for i in range(number_in_population):\n",
        "    new_individual = Individual(prob)\n",
        "    population.append(new_individual)\n",
        "    if new_individual.cost < best_solution.cost:\n",
        "      best_solution = deepcopy(new_individual)\n",
        "\n",
        "  # loop over generations\n",
        "  for iteration in range(max_number_of_iterations):\n",
        "\n",
        "    # generate children\n",
        "    children = []\n",
        "    while len(children) < number_of_children:\n",
        "\n",
        "      # choose parents\n",
        "      parent1_index, parent2_index = choose_diff_indices(len(population))\n",
        "      parent1 = population[parent1_index]\n",
        "      parent2 = population[parent2_index]\n",
        "\n",
        "      child1, child2 = parent1.crossover(parent2, explore_rate_crossover)\n",
        "\n",
        "      # mutate children\n",
        "      child1.mutate(mutation_rate, range_of_mutation)\n",
        "      child2.mutate(mutation_rate, range_of_mutation)\n",
        "\n",
        "      # cost of chidren\n",
        "      child1.cost = cost_function(child1.chromosone)\n",
        "      child2.cost = cost_function(child2.chromosone)\n",
        "\n",
        "      children.append(child1)\n",
        "      children.append(child2)\n",
        "\n",
        "    # add children to population\n",
        "    population += children\n",
        "\n",
        "    # sort and cull population\n",
        "    population = sorted(population, key = lambda x: x.cost)\n",
        "    population = population[:number_in_population]\n",
        "\n",
        "    if population[0].cost < best_solution.cost:\n",
        "      best_solution= deepcopy(population[0])\n",
        "\n",
        "  return population, best_solution\n",
        "\n",
        "pop, best_sol = run_genetic(p, para)\n",
        "\n",
        "best_sol.cost"
      ]
    },
    {
      "cell_type": "code",
      "execution_count": 31,
      "metadata": {
        "id": "Q6LGCnLTkFne"
      },
      "outputs": [],
      "source": [
        "prob = Problem()\n",
        "param = Parameters()\n",
        "\n",
        "pop, best = run_genetic(prob, param)"
      ]
    },
    {
      "cell_type": "code",
      "execution_count": 32,
      "metadata": {
        "colab": {
          "base_uri": "https://localhost:8080/"
        },
        "id": "rjdNRkjGkbZz",
        "outputId": "649b3dce-8d11-472f-e04d-94b37e241de4"
      },
      "outputs": [
        {
          "name": "stdout",
          "output_type": "stream",
          "text": [
            "5.000010311955156\n",
            "5.000010311949185\n"
          ]
        }
      ],
      "source": [
        "print(pop[600].cost)\n",
        "print(best.cost)"
      ]
    },
    {
      "cell_type": "code",
      "execution_count": 33,
      "metadata": {
        "colab": {
          "base_uri": "https://localhost:8080/"
        },
        "id": "1u5Ba548sfpB",
        "outputId": "5530b87f-bf3a-4bb8-daad-b4907263596f"
      },
      "outputs": [
        {
          "data": {
            "text/plain": [
              "array([ 1.58113720e+00, -3.18977484e-04,  8.00344897e-03])"
            ]
          },
          "execution_count": 33,
          "metadata": {},
          "output_type": "execute_result"
        }
      ],
      "source": [
        "best.chromosone"
      ]
    }
  ],
  "metadata": {
    "colab": {
      "provenance": []
    },
    "kernelspec": {
      "display_name": ".venv",
      "language": "python",
      "name": "python3"
    },
    "language_info": {
      "codemirror_mode": {
        "name": "ipython",
        "version": 3
      },
      "file_extension": ".py",
      "mimetype": "text/x-python",
      "name": "python",
      "nbconvert_exporter": "python",
      "pygments_lexer": "ipython3",
      "version": "3.10.5"
    },
    "vscode": {
      "interpreter": {
        "hash": "072d63d6d7ab3587f4955b1097238bfbd1a66f70208eb562cbd9f46f67409b14"
      }
    }
  },
  "nbformat": 4,
  "nbformat_minor": 0
}
